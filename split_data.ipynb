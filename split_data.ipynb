{
 "cells": [
  {
   "cell_type": "code",
   "execution_count": 39,
   "metadata": {},
   "outputs": [],
   "source": [
    "import os\n",
    "import shutil"
   ]
  },
  {
   "cell_type": "code",
   "execution_count": 23,
   "metadata": {},
   "outputs": [],
   "source": [
    "def create_folders(path,target_dir):\n",
    "    train_dir = os.path.join(target_dir,\"train\")\n",
    "    test_dir = os.path.join(target_dir,\"test\")\n",
    "    val_dir = os.path.join(target_dir,\"val\")\n",
    "    if not os.path.exists(train_dir):\n",
    "        os.makedirs(train_dir)\n",
    "    if not os.path.exists(test_dir):\n",
    "        os.makedirs(test_dir)\n",
    "    if not os.path.exists(val_dir):\n",
    "        os.makedirs(val_dir)\n",
    "    labels = [x for x in os.listdir(path) if os.path.isdir(os.path.join(path,x))]\n",
    "    for label in labels:\n",
    "        if not os.path.exists(os.path.join(train_dir,label)):\n",
    "            os.makedirs(os.path.join(train_dir,label))\n",
    "        if not os.path.exists(os.path.join(test_dir,label)):\n",
    "            os.makedirs(os.path.join(test_dir,label))\n",
    "        if not os.path.exists(os.path.join(val_dir,label)):\n",
    "            os.makedirs(os.path.join(val_dir,label))\n",
    "    return train_dir,test_dir,val_dir,labels"
   ]
  },
  {
   "cell_type": "code",
   "execution_count": 40,
   "metadata": {},
   "outputs": [],
   "source": [
    "def train_test_val_split(path,target_dir,ratio=(85,10,5)):\n",
    "    train_dir,test_dir,val_dir,labels = create_folders(path,target_dir)\n",
    "    for label in labels:\n",
    "        label_path = os.path.join(path,label)\n",
    "        imgs = [os.path.join(label_path,x) for x in os.listdir(label_path)]\n",
    "        size = len(imgs)\n",
    "        train_size = int(size*ratio[0]/100)\n",
    "        test_size = int(size*ratio[1]/100)\n",
    "        val_size = size - train_size - test_size\n",
    "        train_imgs = imgs[:train_size]\n",
    "        test_imgs = imgs[train_size:train_size+test_size]\n",
    "        val_imgs = imgs[train_size+test_size:]\n",
    "        for img in train_imgs:\n",
    "            shutil.copy2(img,os.path.join(train_dir,label))\n",
    "        for img in test_imgs:\n",
    "            shutil.copy2(img,os.path.join(test_dir,label))\n",
    "        for img in val_imgs:\n",
    "            shutil.copy2(img,os.path.join(val_dir,label))\n",
    "        "
   ]
  },
  {
   "cell_type": "code",
   "execution_count": 41,
   "metadata": {
    "scrolled": false
   },
   "outputs": [],
   "source": [
    "train_test_val_split('dataset','fashion')"
   ]
  },
  {
   "cell_type": "code",
   "execution_count": null,
   "metadata": {},
   "outputs": [],
   "source": []
  }
 ],
 "metadata": {
  "kernelspec": {
   "display_name": "Python 3",
   "language": "python",
   "name": "python3"
  },
  "language_info": {
   "codemirror_mode": {
    "name": "ipython",
    "version": 3
   },
   "file_extension": ".py",
   "mimetype": "text/x-python",
   "name": "python",
   "nbconvert_exporter": "python",
   "pygments_lexer": "ipython3",
   "version": "3.6.8"
  }
 },
 "nbformat": 4,
 "nbformat_minor": 2
}
